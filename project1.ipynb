{
 "cells": [
  {
   "cell_type": "code",
   "execution_count": null,
   "id": "dc91c4f8-3ea4-4d85-b9cf-773b0e00ef69",
   "metadata": {},
   "outputs": [],
   "source": [
    "#Project1"
   ]
  }
 ],
 "metadata": {
  "kernelspec": {
   "display_name": "Python 3",
   "language": "python",
   "name": "python3"
  },
  "language_info": {
   "codemirror_mode": {
    "name": "ipython",
    "version": 3
   },
   "file_extension": ".py",
   "mimetype": "text/x-python",
   "name": "python",
   "nbconvert_exporter": "python",
   "pygments_lexer": "ipython3",
   "version": "3.8.8"
  }
 },
 "nbformat": 4,
 "nbformat_minor": 5
}
